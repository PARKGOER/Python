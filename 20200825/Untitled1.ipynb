{
 "cells": [
  {
   "cell_type": "code",
   "execution_count": 44,
   "metadata": {},
   "outputs": [
    {
     "name": "stdout",
     "output_type": "stream",
     "text": [
      "지역은 :제주특별자치도\n",
      "337587\n",
      "334326\n"
     ]
    },
    {
     "data": {
      "image/png": "[encoded data removed]",
      "text/plain": [
       "<Figure size 432x288 with 1 Axes>"
      ]
     },
     "metadata": {},
     "output_type": "display_data"
    }
   ],
   "source": [
    "import csv\n",
    "f=open('gender.csv','r',encoding='cp949')\n",
    "data=csv.reader(f,delimiter=',')\n",
    "header=next(data)\n",
    "m=[]\n",
    "f=[]\n",
    "지역=input(\"지역은 :\")\n",
    "for row in data :\n",
    "    if 지역 in row[0] :\n",
    "        sum_m=0\n",
    "        for i in row [3:104] :\n",
    "            i=i.replace(\",\",\"\")\n",
    "            sum_m=sum_m+int(i)\n",
    "            m.append(int(i))\n",
    "        sum_f=0\n",
    "        for i in row[106:] :\n",
    "            i=i.replace(\",\",\"\")\n",
    "            sum_f=sum_f+int(i)\n",
    "            f.append(int(i))\n",
    "        break\n",
    "\n",
    "print(sum_m)\n",
    "print(sum_f)\n",
    "        \n",
    "import matplotlib.pyplot as plt\n",
    "plt.pie([sum_m,sum_f],autopct='%.1f%%')\n",
    "plt.show()\n",
    "        \n",
    "        "
   ]
  },
  {
   "cell_type": "code",
   "execution_count": 40,
   "metadata": {},
   "outputs": [
    {
     "data": {
      "image/png": "[encoded data removed]",
      "text/plain": [
       "<Figure size 432x288 with 1 Axes>"
      ]
     },
     "metadata": {},
     "output_type": "display_data"
    }
   ],
   "source": [
    "import matplotlib.pyplot as plt\n",
    "plt.rc('font',family=\"Malgun Gothic\")\n",
    "size=[2441,2312,1031,1233]\n",
    "label=['A형','B형','AB형','O형']\n",
    "color=['darkmagenta','deeppink','hotpink','pink']\n",
    "plt.axis('equal')\n",
    "plt.pie(size,labels=label,autopct='%.1f%%',colors=color,explode=(0,0,0.1,0))\n",
    "plt.show()"
   ]
  },
  {
   "cell_type": "code",
   "execution_count": 52,
   "metadata": {},
   "outputs": [
    {
     "name": "stdout",
     "output_type": "stream",
     "text": [
      "지역은 :제주특별자치도\n",
      "[95, 97, 152, 245, 254, 131, 141, 114, 251, 153, 373, 197, 266, 204, 341, 437, 457, 266, 472, 362, 566, 457, 421, 628, 674, 475, 516, 412, 482, 210, 190, 84, 116, 103, 174, 56, -46, -4, 204, 170, 92, 45, 186, 403, 486, 665, 497, 342, 424, 549, 553, 573, 583, 610, 631, 446, 413, 450, 211, 65, 98, 140, 61, 24, -37, -198, -205, -229, -134, -194, -382, -258, -235, -391, -276, -345, -581, -476, -643, -743, -718, -821, -748, -857, -803, -812, -875, -902, -737, -586, -646, -442, -395, -266, -214, -161, -92, -328, -162, -90, -200]\n"
     ]
    },
    {
     "data": {
      "image/png": "[encoded data removed]",
      "text/plain": [
       "<Figure size 432x288 with 1 Axes>"
      ]
     },
     "metadata": {
      "needs_background": "light"
     },
     "output_type": "display_data"
    }
   ],
   "source": [
    "import csv\n",
    "f=open('gender.csv','r',encoding='cp949')\n",
    "data=csv.reader(f,delimiter=',')\n",
    "header=next(data)\n",
    "m=[]\n",
    "f=[]\n",
    "delta=[]\n",
    "지역=input(\"지역은 :\")\n",
    "for row in data :\n",
    "    if 지역 in row[0] :\n",
    "        sum_m=0\n",
    "        for i in row [3:104] :\n",
    "            i=i.replace(\",\",\"\")\n",
    "            sum_m=sum_m+int(i)\n",
    "            m.append(int(i))\n",
    "        sum_f=0\n",
    "        for i in row[106:] :\n",
    "            i=i.replace(\",\",\"\")\n",
    "            sum_f=sum_f+int(i)\n",
    "            f.append(int(i))\n",
    "        break\n",
    "        \n",
    "for k in range(0,101) :\n",
    "    delta.append(m[k]-f[k])\n",
    "print(delta)\n",
    "    \n",
    "import matplotlib.pyplot as plt\n",
    "plt.bar(range(101),delta)\n",
    "plt.show()"
   ]
  },
  {
   "cell_type": "code",
   "execution_count": null,
   "metadata": {},
   "outputs": [],
   "source": []
  }
 ],
 "metadata": {
  "kernelspec": {
   "display_name": "Python 3",
   "language": "python",
   "name": "python3"
  },
  "language_info": {
   "codemirror_mode": {
    "name": "ipython",
    "version": 3
   },
   "file_extension": ".py",
   "mimetype": "text/x-python",
   "name": "python",
   "nbconvert_exporter": "python",
   "pygments_lexer": "ipython3",
   "version": "3.8.3"
  }
 },
 "nbformat": 4,
 "nbformat_minor": 4
}
