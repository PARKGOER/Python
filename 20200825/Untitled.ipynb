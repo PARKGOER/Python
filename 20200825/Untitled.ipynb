{
 "cells": [
  {
   "cell_type": "code",
   "execution_count": 58,
   "metadata": {},
   "outputs": [
    {
     "name": "stdout",
     "output_type": "stream",
     "text": [
      "area : 만년동\n"
     ]
    },
    {
     "data": {
      "image/png": "[encoded data removed]",
      "text/plain": [
       "<Figure size 432x288 with 1 Axes>"
      ]
     },
     "metadata": {
      "needs_background": "light"
     },
     "output_type": "display_data"
    }
   ],
   "source": [
    "import csv\n",
    "f=open('age.csv','r',encoding='cp949')\n",
    "data=csv.reader(f,delimiter=',')\n",
    "header=next(data)\n",
    "agelist=[]\n",
    "area=input(\"area : \")\n",
    "for row in data :\n",
    "    if area in row[0]:\n",
    "        for i in row[3:] :\n",
    "            i = i.replace(\",\",\"\")\n",
    "            agelist.append(int(i))\n",
    "f.close()\n",
    "\n",
    "import matplotlib.pyplot as plt\n",
    "plt.barh(range(101),agelist,label='agelist')\n",
    "plt.show()"
   ]
  },
  {
   "cell_type": "code",
   "execution_count": 54,
   "metadata": {},
   "outputs": [
    {
     "data": {
      "image/png": "[encoded data removed]",
      "text/plain": [
       "<Figure size 432x288 with 1 Axes>"
      ]
     },
     "metadata": {
      "needs_background": "light"
     },
     "output_type": "display_data"
    }
   ],
   "source": [
    "import matplotlib.pyplot as plt\n",
    "plt.bar(range(6),[1,2,3,5,6,7])\n",
    "plt.show()"
   ]
  },
  {
   "cell_type": "code",
   "execution_count": 64,
   "metadata": {},
   "outputs": [
    {
     "name": "stdout",
     "output_type": "stream",
     "text": [
      "area : 만년동\n",
      "[41, 61, 52, 50, 54, 50, 45, 48, 55, 70, 71, 58, 70, 69, 64, 68, 76, 80, 80, 102, 95, 114, 117, 110, 142, 128, 157, 158, 146, 126, 126, 117, 135, 100, 96, 91, 104, 97, 109, 118, 90, 83, 76, 103, 80, 90, 127, 132, 131, 150, 118, 136, 101, 89, 91, 112, 99, 110, 86, 104, 100, 89, 81, 66, 56, 60, 44, 38, 34, 24, 36, 24, 31, 19, 12, 15, 17, 14, 24, 13, 13, 8, 13, 10, 8, 5, 5, 4, 3, 3, 5, 2, 2, 0, 1, 0, 1, 0, 0, 0]\n",
      "[38, 58, 49, 44, 52, 62, 47, 46, 49, 58, 41, 54, 78, 75, 71, 59, 90, 75, 66, 76, 97, 80, 104, 87, 119, 115, 129, 108, 147, 127, 96, 113, 114, 93, 99, 74, 83, 102, 84, 87, 95, 102, 83, 125, 111, 130, 132, 140, 119, 138, 137, 126, 118, 120, 122, 142, 105, 102, 93, 113, 102, 83, 65, 71, 36, 64, 48, 37, 41, 26, 35, 23, 35, 23, 16, 28, 24, 28, 29, 20, 18, 20, 10, 14, 13, 18, 8, 9, 13, 5, 4, 7, 7, 2, 3, 3, 1, 0, 2, 0]\n"
     ]
    }
   ],
   "source": [
    "import csv\n",
    "f=open('gender.csv','r',encoding='cp949')\n",
    "data=csv.reader(f,delimiter=',')\n",
    "header=next(data)\n",
    "m_agelist=[]\n",
    "fm_agelist=[]\n",
    "area=input(\"area : \")\n",
    "for row in data :\n",
    "    if area in row[0]:\n",
    "        for m in row[3:103] :\n",
    "            m = m.replace(\",\",\"\")\n",
    "            m_agelist.append(int(m))\n",
    "        for fm in row[-101:-1] :\n",
    "            fm = fm.replace(\",\",\"\")\n",
    "            fm_agelist.append(int(fm))\n",
    "print(m_agelist)\n",
    "print(fm_agelist)\n",
    "f.close()"
   ]
  },
  {
   "cell_type": "code",
   "execution_count": null,
   "metadata": {},
   "outputs": [],
   "source": []
  },
  {
   "cell_type": "code",
   "execution_count": null,
   "metadata": {},
   "outputs": [],
   "source": []
  },
  {
   "cell_type": "code",
   "execution_count": null,
   "metadata": {},
   "outputs": [],
   "source": []
  },
  {
   "cell_type": "code",
   "execution_count": null,
   "metadata": {},
   "outputs": [],
   "source": []
  }
 ],
 "metadata": {
  "kernelspec": {
   "display_name": "Python 3",
   "language": "python",
   "name": "python3"
  },
  "language_info": {
   "codemirror_mode": {
    "name": "ipython",
    "version": 3
   },
   "file_extension": ".py",
   "mimetype": "text/x-python",
   "name": "python",
   "nbconvert_exporter": "python",
   "pygments_lexer": "ipython3",
   "version": "3.8.3"
  }
 },
 "nbformat": 4,
 "nbformat_minor": 4
}
