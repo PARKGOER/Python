{
  "nbformat": 4,
  "nbformat_minor": 0,
  "metadata": {
    "colab": {
      "name": "Untitled2.ipynb",
      "provenance": [],
      "authorship_tag": "ABX9TyOREClPEB3O4M4+LfVaxvl1",
      "include_colab_link": true
    },
    "kernelspec": {
      "name": "python3",
      "display_name": "Python 3"
    }
  },
  "cells": [
    {
      "cell_type": "markdown",
      "metadata": {
        "id": "view-in-github",
        "colab_type": "text"
      },
      "source": [
        "<a href=\"https://colab.research.google.com/github/PARKGOER/Python/blob/master/Untitled2.ipynb\" target=\"_parent\"><img src=\"https://colab.research.google.com/assets/colab-badge.svg\" alt=\"Open In Colab\"/></a>"
      ]
    },
    {
      "cell_type": "code",
      "metadata": {
        "id": "mNi83kfF_t1z",
        "outputId": "2737b9c4-a81b-4e54-ec05-66227ac7c9bf",
        "colab": {
          "base_uri": "https://localhost:8080/"
        }
      },
      "source": [
        "import torch\n",
        "import torch.nn as nn\n",
        "import torch.nn.functional as F\n",
        "import torch.optim as optim\n",
        "torch.manual_seed(1)\n",
        "x_train=torch.FloatTensor([[1],[2],[3]])\n",
        "y_train=torch.FloatTensor([[2],[4],[6]])\n",
        "# W=torch.zeros(1,requires_grad=True)\n",
        "# b=torch.zeros(1,requires_grad=True)\n",
        "model = nn.Linear(1,1)\n",
        "# optimizer=optim.SGD([W,b],lr=0.01)\n",
        "optimizer=torch.optim.SGD(model.parameters(),lr=0.01)\n",
        "nb_epochs=2000\n",
        "for epoch in range(nb_epochs+1) :\n",
        "  hypothesis=model(x_train)\n",
        "  cost=F.mse_loss(hypothesis,y_train)\n",
        "  optimizer.zero_grad()\n",
        "  cost.backward()\n",
        "  optimizer.step()\n",
        "\n",
        "  if epoch % 100==0 :\n",
        "    print('Epoch {:4d}/{} Cost: {:.6f}'.format(epoch, nb_epochs, cost.item()))\n",
        "    print(list(model.parameters()))\n",
        "new_var = torch.FloatTensor([[4.0]])\n",
        "new_y=model(new_var)\n",
        "print(new_y)"
      ],
      "execution_count": 24,
      "outputs": [
        {
          "output_type": "stream",
          "text": [
            "Epoch    0/2000 Cost: 13.103541\n",
            "[Parameter containing:\n",
            "tensor([[0.6715]], requires_grad=True), Parameter containing:\n",
            "tensor([-0.3732], requires_grad=True)]\n",
            "Epoch  100/2000 Cost: 0.002791\n",
            "[Parameter containing:\n",
            "tensor([[1.9388]], requires_grad=True), Parameter containing:\n",
            "tensor([0.1391], requires_grad=True)]\n",
            "Epoch  200/2000 Cost: 0.001724\n",
            "[Parameter containing:\n",
            "tensor([[1.9519]], requires_grad=True), Parameter containing:\n",
            "tensor([0.1094], requires_grad=True)]\n",
            "Epoch  300/2000 Cost: 0.001066\n",
            "[Parameter containing:\n",
            "tensor([[1.9622]], requires_grad=True), Parameter containing:\n",
            "tensor([0.0860], requires_grad=True)]\n",
            "Epoch  400/2000 Cost: 0.000658\n",
            "[Parameter containing:\n",
            "tensor([[1.9703]], requires_grad=True), Parameter containing:\n",
            "tensor([0.0676], requires_grad=True)]\n",
            "Epoch  500/2000 Cost: 0.000407\n",
            "[Parameter containing:\n",
            "tensor([[1.9766]], requires_grad=True), Parameter containing:\n",
            "tensor([0.0531], requires_grad=True)]\n",
            "Epoch  600/2000 Cost: 0.000251\n",
            "[Parameter containing:\n",
            "tensor([[1.9816]], requires_grad=True), Parameter containing:\n",
            "tensor([0.0418], requires_grad=True)]\n",
            "Epoch  700/2000 Cost: 0.000155\n",
            "[Parameter containing:\n",
            "tensor([[1.9856]], requires_grad=True), Parameter containing:\n",
            "tensor([0.0328], requires_grad=True)]\n",
            "Epoch  800/2000 Cost: 0.000096\n",
            "[Parameter containing:\n",
            "tensor([[1.9886]], requires_grad=True), Parameter containing:\n",
            "tensor([0.0258], requires_grad=True)]\n",
            "Epoch  900/2000 Cost: 0.000059\n",
            "[Parameter containing:\n",
            "tensor([[1.9911]], requires_grad=True), Parameter containing:\n",
            "tensor([0.0203], requires_grad=True)]\n",
            "Epoch 1000/2000 Cost: 0.000037\n",
            "[Parameter containing:\n",
            "tensor([[1.9930]], requires_grad=True), Parameter containing:\n",
            "tensor([0.0159], requires_grad=True)]\n",
            "Epoch 1100/2000 Cost: 0.000023\n",
            "[Parameter containing:\n",
            "tensor([[1.9945]], requires_grad=True), Parameter containing:\n",
            "tensor([0.0125], requires_grad=True)]\n",
            "Epoch 1200/2000 Cost: 0.000014\n",
            "[Parameter containing:\n",
            "tensor([[1.9957]], requires_grad=True), Parameter containing:\n",
            "tensor([0.0099], requires_grad=True)]\n",
            "Epoch 1300/2000 Cost: 0.000009\n",
            "[Parameter containing:\n",
            "tensor([[1.9966]], requires_grad=True), Parameter containing:\n",
            "tensor([0.0077], requires_grad=True)]\n",
            "Epoch 1400/2000 Cost: 0.000005\n",
            "[Parameter containing:\n",
            "tensor([[1.9973]], requires_grad=True), Parameter containing:\n",
            "tensor([0.0061], requires_grad=True)]\n",
            "Epoch 1500/2000 Cost: 0.000003\n",
            "[Parameter containing:\n",
            "tensor([[1.9979]], requires_grad=True), Parameter containing:\n",
            "tensor([0.0048], requires_grad=True)]\n",
            "Epoch 1600/2000 Cost: 0.000002\n",
            "[Parameter containing:\n",
            "tensor([[1.9983]], requires_grad=True), Parameter containing:\n",
            "tensor([0.0038], requires_grad=True)]\n",
            "Epoch 1700/2000 Cost: 0.000001\n",
            "[Parameter containing:\n",
            "tensor([[1.9987]], requires_grad=True), Parameter containing:\n",
            "tensor([0.0030], requires_grad=True)]\n",
            "Epoch 1800/2000 Cost: 0.000001\n",
            "[Parameter containing:\n",
            "tensor([[1.9990]], requires_grad=True), Parameter containing:\n",
            "tensor([0.0023], requires_grad=True)]\n",
            "Epoch 1900/2000 Cost: 0.000000\n",
            "[Parameter containing:\n",
            "tensor([[1.9992]], requires_grad=True), Parameter containing:\n",
            "tensor([0.0018], requires_grad=True)]\n",
            "Epoch 2000/2000 Cost: 0.000000\n",
            "[Parameter containing:\n",
            "tensor([[1.9994]], requires_grad=True), Parameter containing:\n",
            "tensor([0.0014], requires_grad=True)]\n",
            "tensor([[7.9989]], grad_fn=<AddmmBackward>)\n"
          ],
          "name": "stdout"
        }
      ]
    },
    {
      "cell_type": "code",
      "metadata": {
        "id": "ak1IA7F7F7hQ",
        "outputId": "25d020d3-2ad4-4c82-9dfd-e322ff086be9",
        "colab": {
          "base_uri": "https://localhost:8080/"
        }
      },
      "source": [
        "import torch\n",
        "w=torch.tensor(2.0, requires_grad=True)\n",
        "y=w**2\n",
        "z=2*y+5\n",
        "\n",
        "z.backward()\n",
        "print('w로 미분한 값 : ', float(w.grad))\n"
      ],
      "execution_count": 2,
      "outputs": [
        {
          "output_type": "stream",
          "text": [
            "w로 미분한 값 :  8.0\n"
          ],
          "name": "stdout"
        }
      ]
    },
    {
      "cell_type": "code",
      "metadata": {
        "id": "BDHSxdv_RpeP",
        "outputId": "d3ed8726-a1e6-459e-a0e0-d6ae786b950c",
        "colab": {
          "base_uri": "https://localhost:8080/"
        }
      },
      "source": [
        "import torch\n",
        "import torch.optim as optim\n",
        "x1_train=torch.FloatTensor([[73],[93],[89],[96],[73]])\n",
        "x2_train=torch.FloatTensor([[80],[88],[91],[98],[66]])\n",
        "x3_train=torch.FloatTensor([[75],[93],[80],[100],[70]])\n",
        "y_train=torch.FloatTensor([[152],[185],[180],[196],[142]])\n",
        "W1=torch.zeros(1,requires_grad=True)\n",
        "W2=torch.zeros(1,requires_grad=True)\n",
        "W3=torch.zeros(1,requires_grad=True)\n",
        "b=torch.zeros(1,requires_grad=True)\n",
        "optimizer=optim.SGD([W1,W2,W3,b],lr=0.00001)\n",
        "nb_epochs=1000\n",
        "for epoch in range(nb_epochs+1) :\n",
        "    hypothesis=x1_train*W1+x2_train*W2+x3_train*W3+b\n",
        "    cost=torch.mean((hypothesis-y_train)**2)\n",
        "    optimizer.zero_grad()\n",
        "    cost.backward()\n",
        "    optimizer.step()\n",
        "    if epoch % 100==0 :\n",
        "        print('Epoch {:4d}/{} W1:{:.3f},W2:{:.3f},W3:{:.3f}, b: {:.3f} Cost: {:.6f}'.format(epoch, nb_epochs, W1.item(),W2.item(),W3.item(), b.item(), cost.item()))\n"
      ],
      "execution_count": 10,
      "outputs": [
        {
          "output_type": "stream",
          "text": [
            "Epoch    0/1000 W1:0.294,W2:0.294,W3:0.290, b: 0.003 Cost: 29661.800781\n",
            "Epoch  100/1000 W1:0.688,W2:0.681,W3:0.658, b: 0.008 Cost: 5.754573\n",
            "Epoch  200/1000 W1:0.697,W2:0.684,W3:0.645, b: 0.008 Cost: 5.512386\n",
            "Epoch  300/1000 W1:0.707,W2:0.686,W3:0.634, b: 0.008 Cost: 5.281667\n",
            "Epoch  400/1000 W1:0.715,W2:0.689,W3:0.622, b: 0.008 Cost: 5.061869\n",
            "Epoch  500/1000 W1:0.724,W2:0.691,W3:0.611, b: 0.008 Cost: 4.852424\n",
            "Epoch  600/1000 W1:0.733,W2:0.693,W3:0.600, b: 0.008 Cost: 4.652706\n",
            "Epoch  700/1000 W1:0.741,W2:0.695,W3:0.589, b: 0.009 Cost: 4.462287\n",
            "Epoch  800/1000 W1:0.750,W2:0.697,W3:0.579, b: 0.009 Cost: 4.280604\n",
            "Epoch  900/1000 W1:0.758,W2:0.699,W3:0.569, b: 0.009 Cost: 4.107294\n",
            "Epoch 1000/1000 W1:0.766,W2:0.700,W3:0.559, b: 0.009 Cost: 3.941866\n"
          ],
          "name": "stdout"
        }
      ]
    },
    {
      "cell_type": "code",
      "metadata": {
        "id": "cIkOJp_pYLhn",
        "outputId": "47bfae1b-8012-47b5-afc4-7d37ca558c57",
        "colab": {
          "base_uri": "https://localhost:8080/"
        }
      },
      "source": [
        "import torch\n",
        "import torch.optim as optim\n",
        "x_train=torch.FloatTensor([[73,80,75],[93,88,93],[89,91,80],[96,98,100],[73,66,70]])\n",
        "y_train=torch.FloatTensor([[152],[185],[180],[196],[142]])\n",
        "W=torch.zeros((3,1),requires_grad=True)\n",
        "b=torch.zeros(1,requires_grad=True)\n",
        "optimizer=optim.SGD([W,b],lr=1e-5)\n",
        "nb_epochs=1000\n",
        "for epoch in range(nb_epochs+1) :\n",
        "    hypothesis=x_train.matmul(W)+b\n",
        "    cost=torch.mean((hypothesis-y_train)**2)\n",
        "    optimizer.zero_grad()\n",
        "    cost.backward()\n",
        "    optimizer.step()\n",
        "    if epoch%100==0:\n",
        "        print('Epoch {:4d}/{} Cost: {:.6f}'.format(epoch, nb_epochs,  cost.item()))\n",
        "\n"
      ],
      "execution_count": 19,
      "outputs": [
        {
          "output_type": "stream",
          "text": [
            "Epoch    0/1000 Cost: 29661.800781\n",
            "Epoch  100/1000 Cost: 5.754573\n",
            "Epoch  200/1000 Cost: 5.512386\n",
            "Epoch  300/1000 Cost: 5.281667\n",
            "Epoch  400/1000 Cost: 5.061907\n",
            "Epoch  500/1000 Cost: 4.852424\n",
            "Epoch  600/1000 Cost: 4.652732\n",
            "Epoch  700/1000 Cost: 4.462265\n",
            "Epoch  800/1000 Cost: 4.280604\n",
            "Epoch  900/1000 Cost: 4.107260\n",
            "Epoch 1000/1000 Cost: 3.941853\n"
          ],
          "name": "stdout"
        }
      ]
    },
    {
      "cell_type": "code",
      "metadata": {
        "id": "trNZgq-xhdQb"
      },
      "source": [
        ""
      ],
      "execution_count": null,
      "outputs": []
    }
  ]
}