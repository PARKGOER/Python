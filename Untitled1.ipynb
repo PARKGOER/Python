{
  "nbformat": 4,
  "nbformat_minor": 0,
  "metadata": {
    "colab": {
      "name": "Untitled1.ipynb",
      "provenance": [],
      "authorship_tag": "ABX9TyO07VCRYkB0wP9CnB5Dt8wy",
      "include_colab_link": true
    },
    "kernelspec": {
      "name": "python3",
      "display_name": "Python 3"
    }
  },
  "cells": [
    {
      "cell_type": "markdown",
      "metadata": {
        "id": "view-in-github",
        "colab_type": "text"
      },
      "source": [
        "<a href=\"https://colab.research.google.com/github/PARKGOER/Python/blob/master/Untitled1.ipynb\" target=\"_parent\"><img src=\"https://colab.research.google.com/assets/colab-badge.svg\" alt=\"Open In Colab\"/></a>"
      ]
    },
    {
      "cell_type": "code",
      "metadata": {
        "id": "u-PpoH2URAhH",
        "colab_type": "code",
        "colab": {
          "base_uri": "https://localhost:8080/",
          "height": 233
        },
        "outputId": "4434527d-cd18-444e-d274-ff86c60e326c"
      },
      "source": [
        "import numpy\n",
        "A=numpy.array([10,20,30,40,50,60])\n",
        "B=A.reshape(3,2)\n",
        "print(B)\n",
        "print(B[0,0],B[2,1])\n",
        "print(B[0:2,1:2])\n",
        "print(B[0:3,0:1])\n",
        "print(B[0:3,0:2])"
      ],
      "execution_count": 28,
      "outputs": [
        {
          "output_type": "stream",
          "text": [
            "[[10 20]\n",
            " [30 40]\n",
            " [50 60]]\n",
            "10 60\n",
            "[[20]\n",
            " [40]]\n",
            "[[10]\n",
            " [30]\n",
            " [50]]\n",
            "[[10 20]\n",
            " [30 40]\n",
            " [50 60]]\n"
          ],
          "name": "stdout"
        }
      ]
    },
    {
      "cell_type": "code",
      "metadata": {
        "id": "loKLPtERW9dS",
        "colab_type": "code",
        "colab": {
          "base_uri": "https://localhost:8080/",
          "height": 251
        },
        "outputId": "7bc1e612-fbc4-4bef-865a-d243debbbda2"
      },
      "source": [
        "A = numpy.array([[10,20,30,40],[50,60,70,80]])\n",
        "\n",
        "print(A,\"\\n\")\n",
        "print(\"A.shape ==\", A.shape, \"\\n\")\n",
        "# 행렬 A의 iterator 생성\n",
        "\n",
        "it=numpy.nditer(A, flags=['multi_index'], op_flags=['readwrite'])\n",
        "\n",
        "while not it.finished :\n",
        "  idx=it.multi_index\n",
        "  print(\"current value => \", A[idx])\n",
        "\n",
        "  it.iternext()"
      ],
      "execution_count": 35,
      "outputs": [
        {
          "output_type": "stream",
          "text": [
            "[[10 20 30 40]\n",
            " [50 60 70 80]] \n",
            "\n",
            "A.shape == (2, 4) \n",
            "\n",
            "current value =>  10\n",
            "current value =>  20\n",
            "current value =>  30\n",
            "current value =>  40\n",
            "current value =>  50\n",
            "current value =>  60\n",
            "current value =>  70\n",
            "current value =>  80\n"
          ],
          "name": "stdout"
        }
      ]
    },
    {
      "cell_type": "code",
      "metadata": {
        "id": "t2kgT4phd1S_",
        "colab_type": "code",
        "colab": {
          "base_uri": "https://localhost:8080/",
          "height": 125
        },
        "outputId": "ed386daf-5b75-4a68-c9a9-64a6efc7f482"
      },
      "source": [
        "import numpy as np\n",
        "A=np.array([[10,20,30],[40,50,60]])\n",
        "print(A.shape)\n",
        "\n",
        "row_add=np.array([70,80,90]).reshape(1,3)\n",
        "col_add=np.array([1000,2000]).reshape(2,1)\n",
        "\n",
        "B=np.concatenate((A,row_add),axis=0)\n",
        "print(B)\n",
        "\n",
        "C=np.concatenate((A,col_add),axis=1)\n",
        "print(C)"
      ],
      "execution_count": 40,
      "outputs": [
        {
          "output_type": "stream",
          "text": [
            "(2, 3)\n",
            "[[10 20 30]\n",
            " [40 50 60]\n",
            " [70 80 90]]\n",
            "[[  10   20   30 1000]\n",
            " [  40   50   60 2000]]\n"
          ],
          "name": "stdout"
        }
      ]
    },
    {
      "cell_type": "code",
      "metadata": {
        "id": "Y1EC7-FAjapk",
        "colab_type": "code",
        "colab": {
          "base_uri": "https://localhost:8080/",
          "height": 107
        },
        "outputId": "bed20a18-af3e-4fe7-b9b5-2fced0176180"
      },
      "source": [
        "# 0~1 사이의 random number 발생\n",
        "\n",
        "random_number1 = np.random.rand(3)\n",
        "random_number2 = np.random.rand(1,3)\n",
        "random_number3 = np.random.rand(3,1)\n",
        "\n",
        "print(\"random_number1 ==\", random_number1, \" , random_number1.shape ==\", random_number1.shape)\n",
        "print(\"random_number2 ==\", random_number2, \" , random_number2.shape ==\", random_number2.shape)\n",
        "print(\"random_number3 ==\", random_number3, \" , random_number3.shape ==\", random_number3.shape)\n",
        "\n"
      ],
      "execution_count": 43,
      "outputs": [
        {
          "output_type": "stream",
          "text": [
            "random_number1 == [0.22085535 0.45753534 0.05736702]  , random_number1.shape == (3,)\n",
            "random_number2 == [[0.63390889 0.24766952 0.06277489]]  , random_number2.shape == (1, 3)\n",
            "random_number3 == [[0.4759936 ]\n",
            " [0.01366052]\n",
            " [0.92289889]]  , random_number3.shape == (3, 1)\n"
          ],
          "name": "stdout"
        }
      ]
    },
    {
      "cell_type": "code",
      "metadata": {
        "id": "YeOmNwSOnEEv",
        "colab_type": "code",
        "colab": {
          "base_uri": "https://localhost:8080/",
          "height": 125
        },
        "outputId": "d906bc4f-bf27-474b-ceef-e87fa14f9497"
      },
      "source": [
        "A=np.ones([3,3])\n",
        "print(\"A.shape ==\", A.shape, \", A==\", A)\n",
        "\n",
        "B=np.zeros([3,2])\n",
        "print(\"B.shape ==\", B.shape, \", B==\", B)\n"
      ],
      "execution_count": 44,
      "outputs": [
        {
          "output_type": "stream",
          "text": [
            "A.shape == (3, 3) , A== [[1. 1. 1.]\n",
            " [1. 1. 1.]\n",
            " [1. 1. 1.]]\n",
            "B.shape == (3, 2) , B== [[0. 0.]\n",
            " [0. 0.]\n",
            " [0. 0.]]\n"
          ],
          "name": "stdout"
        }
      ]
    },
    {
      "cell_type": "code",
      "metadata": {
        "id": "WW2T2EcYoEMu",
        "colab_type": "code",
        "colab": {
          "base_uri": "https://localhost:8080/",
          "height": 71
        },
        "outputId": "22ce4db5-a13c-47dc-c131-eb1119bba587"
      },
      "source": [
        "X=np.array([2,4,6,8])\n",
        "print(\"np.sum(X)==\", np.sum(X))\n",
        "print(\"np.exp(X)==\", np.exp(X))\n",
        "print(\"np.log(X)==\", np.log(X))\n",
        "\n"
      ],
      "execution_count": 45,
      "outputs": [
        {
          "output_type": "stream",
          "text": [
            "np.sum(X)== 20\n",
            "np.exp(X)== [   7.3890561    54.59815003  403.42879349 2980.95798704]\n",
            "np.log(X)== [0.69314718 1.38629436 1.79175947 2.07944154]\n"
          ],
          "name": "stdout"
        }
      ]
    },
    {
      "cell_type": "code",
      "metadata": {
        "id": "50Fums8VpHJz",
        "colab_type": "code",
        "colab": {
          "base_uri": "https://localhost:8080/",
          "height": 161
        },
        "outputId": "5c4d9422-213e-4f1b-b192-1ec4f278b252"
      },
      "source": [
        "X=np.array([[2,4,6],[1,2,3],[0,5,8]])\n",
        "\n",
        "print(\"np.max(X)==\", np.max(X, axis=0)) # axis=0, 열기준\n",
        "print(\"np.min(X)==\", np.min(X, axis=0)) # axis=0, 열기준\n",
        "\n",
        "print(\"np.max(X)==\", np.max(X, axis=1)) # axis=1, 행기준\n",
        "print(\"np.min(X)==\", np.min(X, axis=1)) # axis=1, 행기준\n",
        "\n",
        "print(\"np.argmax(X)==\", np.argmax(X, axis=0)) # axis=0, 열기준\n",
        "print(\"np.argmin(X)==\", np.argmin(X, axis=0)) # axis=0, 열기준\n",
        "\n",
        "print(\"np.argmax(X)==\", np.argmax(X, axis=1)) # axis=1, 행기준\n",
        "print(\"np.argmin(X)==\", np.argmin(X, axis=1)) # axis=1, 행기준\n",
        "\n"
      ],
      "execution_count": 46,
      "outputs": [
        {
          "output_type": "stream",
          "text": [
            "np.max(X)== [2 5 8]\n",
            "np.min(X)== [0 2 3]\n",
            "np.max(X)== [6 3 8]\n",
            "np.min(X)== [2 1 0]\n",
            "np.argmax(X)== [0 2 2]\n",
            "np.argmin(X)== [2 1 1]\n",
            "np.argmax(X)== [2 2 2]\n",
            "np.argmin(X)== [0 0 0]\n"
          ],
          "name": "stdout"
        }
      ]
    },
    {
      "cell_type": "code",
      "metadata": {
        "id": "eOhpKUoQqltP",
        "colab_type": "code",
        "colab": {
          "base_uri": "https://localhost:8080/",
          "height": 269
        },
        "outputId": "fb63d8e3-029b-4307-baa5-063de0736157"
      },
      "source": [
        "import torch as tc\n",
        "import numpy as np\n",
        "\n",
        "x = tc.empty(5,4)\n",
        "print(x)\n",
        "\n",
        "print(tc.ones(3,3))\n",
        "\n",
        "print(tc.zeros(2))\n",
        "\n",
        "print(tc.rand(5,6))"
      ],
      "execution_count": 52,
      "outputs": [
        {
          "output_type": "stream",
          "text": [
            "tensor([[7.2299e-35, 0.0000e+00, 7.0065e-44, 6.7262e-44],\n",
            "        [6.3058e-44, 6.7262e-44, 7.9874e-44, 6.3058e-44],\n",
            "        [7.0065e-44, 7.0065e-44, 1.1771e-43, 6.8664e-44],\n",
            "        [7.0065e-44, 8.1275e-44, 6.8664e-44, 7.9874e-44],\n",
            "        [8.1275e-44, 7.1466e-44, 6.7262e-44, 6.4460e-44]])\n",
            "tensor([[1., 1., 1.],\n",
            "        [1., 1., 1.],\n",
            "        [1., 1., 1.]])\n",
            "tensor([0., 0.])\n",
            "tensor([[0.3633, 0.9399, 0.4756, 0.4758, 0.1979, 0.8200],\n",
            "        [0.3915, 0.1145, 0.1887, 0.3061, 0.7523, 0.8242],\n",
            "        [0.9078, 0.0561, 0.6557, 0.5097, 0.2250, 0.7911],\n",
            "        [0.9426, 0.5185, 0.2338, 0.1599, 0.9595, 0.3970],\n",
            "        [0.2122, 0.1613, 0.4424, 0.1571, 0.4385, 0.6779]])\n"
          ],
          "name": "stdout"
        }
      ]
    },
    {
      "cell_type": "code",
      "metadata": {
        "id": "Q-X74Qydvd1r",
        "colab_type": "code",
        "colab": {
          "base_uri": "https://localhost:8080/",
          "height": 89
        },
        "outputId": "2b923eb9-9cb9-4959-b4f1-50b732248dbc"
      },
      "source": [
        "l=[13,4]\n",
        "r=np.array([4,56,7])\n",
        "\n",
        "print(tc.tensor(l))\n",
        "print(tc.tensor(r))\n",
        "\n",
        "print(x.size())\n",
        "print(type(x))"
      ],
      "execution_count": 56,
      "outputs": [
        {
          "output_type": "stream",
          "text": [
            "tensor([13,  4])\n",
            "tensor([ 4, 56,  7])\n",
            "torch.Size([5, 4])\n",
            "<class 'torch.Tensor'>\n"
          ],
          "name": "stdout"
        }
      ]
    },
    {
      "cell_type": "code",
      "metadata": {
        "id": "JqDmFgKwwtgA",
        "colab_type": "code",
        "colab": {
          "base_uri": "https://localhost:8080/",
          "height": 107
        },
        "outputId": "1defed86-0128-43c0-d71b-edc4c660cc89"
      },
      "source": [
        "y=x.numpy()\n",
        "print(y)"
      ],
      "execution_count": 59,
      "outputs": [
        {
          "output_type": "stream",
          "text": [
            "[[7.229878e-35 0.000000e+00 7.006492e-44 6.726233e-44]\n",
            " [6.305843e-44 6.726233e-44 7.987401e-44 6.305843e-44]\n",
            " [7.006492e-44 7.006492e-44 1.177091e-43 6.866362e-44]\n",
            " [7.006492e-44 8.127531e-44 6.866362e-44 7.987401e-44]\n",
            " [8.127531e-44 7.146622e-44 6.726233e-44 6.445973e-44]]\n"
          ],
          "name": "stdout"
        }
      ]
    },
    {
      "cell_type": "code",
      "metadata": {
        "id": "vgbABaDnxn4S",
        "colab_type": "code",
        "colab": {
          "base_uri": "https://localhost:8080/",
          "height": 35
        },
        "outputId": "b3569221-a293-42a5-fce7-2513384dd84e"
      },
      "source": [
        "print(type(y))\n"
      ],
      "execution_count": 60,
      "outputs": [
        {
          "output_type": "stream",
          "text": [
            "<class 'numpy.ndarray'>\n"
          ],
          "name": "stdout"
        }
      ]
    },
    {
      "cell_type": "code",
      "metadata": {
        "id": "oQ2HhWJQx-7X",
        "colab_type": "code",
        "colab": {
          "base_uri": "https://localhost:8080/",
          "height": 161
        },
        "outputId": "4dfce7ae-4ed0-4067-cd7b-28cda1fbdb35"
      },
      "source": [
        "x=tc.rand(2,2)\n",
        "y=tc.rand(2,2)\n",
        "print(x)\n",
        "print(y)\n",
        "print(x+y)\n",
        "print(tc.add(x,y))"
      ],
      "execution_count": 62,
      "outputs": [
        {
          "output_type": "stream",
          "text": [
            "tensor([[0.0471, 0.9703],\n",
            "        [0.3863, 0.3338]])\n",
            "tensor([[0.6650, 0.2471],\n",
            "        [0.1483, 0.7468]])\n",
            "tensor([[0.7121, 1.2175],\n",
            "        [0.5346, 1.0806]])\n",
            "tensor([[0.7121, 1.2175],\n",
            "        [0.5346, 1.0806]])\n"
          ],
          "name": "stdout"
        }
      ]
    },
    {
      "cell_type": "code",
      "metadata": {
        "id": "NF3xh1WyyO62",
        "colab_type": "code",
        "colab": {
          "base_uri": "https://localhost:8080/",
          "height": 53
        },
        "outputId": "c238ee7b-c17f-43ed-8a0b-2abfb0226e1b"
      },
      "source": [
        "print(y.add(x))"
      ],
      "execution_count": 63,
      "outputs": [
        {
          "output_type": "stream",
          "text": [
            "tensor([[0.7121, 1.2175],\n",
            "        [0.5346, 1.0806]])\n"
          ],
          "name": "stdout"
        }
      ]
    },
    {
      "cell_type": "code",
      "metadata": {
        "id": "3QHWi6bAyp0q",
        "colab_type": "code",
        "colab": {
          "base_uri": "https://localhost:8080/",
          "height": 53
        },
        "outputId": "5254e329-009f-4321-bf12-24a1fc13f0d7"
      },
      "source": [
        "print(y)"
      ],
      "execution_count": 64,
      "outputs": [
        {
          "output_type": "stream",
          "text": [
            "tensor([[0.6650, 0.2471],\n",
            "        [0.1483, 0.7468]])\n"
          ],
          "name": "stdout"
        }
      ]
    },
    {
      "cell_type": "code",
      "metadata": {
        "id": "ILP5rxNvyszF",
        "colab_type": "code",
        "colab": {
          "base_uri": "https://localhost:8080/",
          "height": 89
        },
        "outputId": "52d9d590-35c9-4adc-fb8b-7cb343a5d536"
      },
      "source": [
        "print(y.add_(x))\n",
        "print(y)"
      ],
      "execution_count": 65,
      "outputs": [
        {
          "output_type": "stream",
          "text": [
            "tensor([[0.7121, 1.2175],\n",
            "        [0.5346, 1.0806]])\n",
            "tensor([[0.7121, 1.2175],\n",
            "        [0.5346, 1.0806]])\n"
          ],
          "name": "stdout"
        }
      ]
    },
    {
      "cell_type": "code",
      "metadata": {
        "id": "-ZHEipCAyzA1",
        "colab_type": "code",
        "colab": {
          "base_uri": "https://localhost:8080/",
          "height": 35
        },
        "outputId": "0203fa6b-58b6-436f-8616-631cf31b5941"
      },
      "source": [
        "print(y[1,1])"
      ],
      "execution_count": 66,
      "outputs": [
        {
          "output_type": "stream",
          "text": [
            "tensor(1.0806)\n"
          ],
          "name": "stdout"
        }
      ]
    },
    {
      "cell_type": "code",
      "metadata": {
        "id": "yVuybMDVzDVF",
        "colab_type": "code",
        "colab": {
          "base_uri": "https://localhost:8080/",
          "height": 35
        },
        "outputId": "e170a31b-6061-4be1-e4a5-f9b672cb4478"
      },
      "source": [
        "print(y[:,1])"
      ],
      "execution_count": 67,
      "outputs": [
        {
          "output_type": "stream",
          "text": [
            "tensor([1.2175, 1.0806])\n"
          ],
          "name": "stdout"
        }
      ]
    },
    {
      "cell_type": "code",
      "metadata": {
        "id": "SIBdOVuAzHWD",
        "colab_type": "code",
        "colab": {
          "base_uri": "https://localhost:8080/",
          "height": 53
        },
        "outputId": "67a76db3-3258-49cc-fecd-97d144bbab38"
      },
      "source": [
        "print(x)"
      ],
      "execution_count": 68,
      "outputs": [
        {
          "output_type": "stream",
          "text": [
            "tensor([[0.0471, 0.9703],\n",
            "        [0.3863, 0.3338]])\n"
          ],
          "name": "stdout"
        }
      ]
    },
    {
      "cell_type": "code",
      "metadata": {
        "id": "W8D4bNR0zg6P",
        "colab_type": "code",
        "colab": {
          "base_uri": "https://localhost:8080/",
          "height": 161
        },
        "outputId": "80a6a33b-94a5-48ee-c14b-5ae34278d9a2"
      },
      "source": [
        "x=tc.rand(8,8)\n",
        "print(x)"
      ],
      "execution_count": 70,
      "outputs": [
        {
          "output_type": "stream",
          "text": [
            "tensor([[0.7656, 0.6529, 0.0613, 0.3789, 0.8019, 0.0223, 0.0435, 0.8350],\n",
            "        [0.7872, 0.1741, 0.3965, 0.5330, 0.6384, 0.2882, 0.8028, 0.8445],\n",
            "        [0.6884, 0.5498, 0.9156, 0.2297, 0.3089, 0.5030, 0.1302, 0.8590],\n",
            "        [0.0110, 0.6322, 0.7058, 0.0166, 0.1471, 0.1754, 0.9786, 0.8427],\n",
            "        [0.5619, 0.7484, 0.9423, 0.6173, 0.5086, 0.0662, 0.7008, 0.8040],\n",
            "        [0.4793, 0.7035, 0.4899, 0.7687, 0.1676, 0.3488, 0.4438, 0.7888],\n",
            "        [0.2590, 0.5972, 0.3466, 0.3799, 0.0686, 0.3901, 0.8309, 0.1880],\n",
            "        [0.1780, 0.0586, 0.6441, 0.6631, 0.2038, 0.0529, 0.8656, 0.8254]])\n"
          ],
          "name": "stdout"
        }
      ]
    },
    {
      "cell_type": "code",
      "metadata": {
        "id": "XAEBlAMgzj5Z",
        "colab_type": "code",
        "colab": {
          "base_uri": "https://localhost:8080/",
          "height": 161
        },
        "outputId": "74b5a7c0-04ae-4a42-aa1c-50c549008aee"
      },
      "source": [
        "x.view(64)"
      ],
      "execution_count": 71,
      "outputs": [
        {
          "output_type": "execute_result",
          "data": {
            "text/plain": [
              "tensor([0.7656, 0.6529, 0.0613, 0.3789, 0.8019, 0.0223, 0.0435, 0.8350, 0.7872,\n",
              "        0.1741, 0.3965, 0.5330, 0.6384, 0.2882, 0.8028, 0.8445, 0.6884, 0.5498,\n",
              "        0.9156, 0.2297, 0.3089, 0.5030, 0.1302, 0.8590, 0.0110, 0.6322, 0.7058,\n",
              "        0.0166, 0.1471, 0.1754, 0.9786, 0.8427, 0.5619, 0.7484, 0.9423, 0.6173,\n",
              "        0.5086, 0.0662, 0.7008, 0.8040, 0.4793, 0.7035, 0.4899, 0.7687, 0.1676,\n",
              "        0.3488, 0.4438, 0.7888, 0.2590, 0.5972, 0.3466, 0.3799, 0.0686, 0.3901,\n",
              "        0.8309, 0.1880, 0.1780, 0.0586, 0.6441, 0.6631, 0.2038, 0.0529, 0.8656,\n",
              "        0.8254])"
            ]
          },
          "metadata": {
            "tags": []
          },
          "execution_count": 71
        }
      ]
    },
    {
      "cell_type": "code",
      "metadata": {
        "id": "SIo2pGXnzn8-",
        "colab_type": "code",
        "colab": {
          "base_uri": "https://localhost:8080/",
          "height": 161
        },
        "outputId": "f46ed3e6-17da-4e1d-af5f-4cd8a58aa8e5"
      },
      "source": [
        "print(x.view(4,16))"
      ],
      "execution_count": 72,
      "outputs": [
        {
          "output_type": "stream",
          "text": [
            "tensor([[0.7656, 0.6529, 0.0613, 0.3789, 0.8019, 0.0223, 0.0435, 0.8350, 0.7872,\n",
            "         0.1741, 0.3965, 0.5330, 0.6384, 0.2882, 0.8028, 0.8445],\n",
            "        [0.6884, 0.5498, 0.9156, 0.2297, 0.3089, 0.5030, 0.1302, 0.8590, 0.0110,\n",
            "         0.6322, 0.7058, 0.0166, 0.1471, 0.1754, 0.9786, 0.8427],\n",
            "        [0.5619, 0.7484, 0.9423, 0.6173, 0.5086, 0.0662, 0.7008, 0.8040, 0.4793,\n",
            "         0.7035, 0.4899, 0.7687, 0.1676, 0.3488, 0.4438, 0.7888],\n",
            "        [0.2590, 0.5972, 0.3466, 0.3799, 0.0686, 0.3901, 0.8309, 0.1880, 0.1780,\n",
            "         0.0586, 0.6441, 0.6631, 0.2038, 0.0529, 0.8656, 0.8254]])\n"
          ],
          "name": "stdout"
        }
      ]
    },
    {
      "cell_type": "code",
      "metadata": {
        "id": "hhiiwPVH0A9c",
        "colab_type": "code",
        "colab": {
          "base_uri": "https://localhost:8080/",
          "height": 359
        },
        "outputId": "4a25bbf5-e87f-4c0f-cc8a-3fa9e7b28207"
      },
      "source": [
        "print(x.view(-1,4,4))"
      ],
      "execution_count": 73,
      "outputs": [
        {
          "output_type": "stream",
          "text": [
            "tensor([[[0.7656, 0.6529, 0.0613, 0.3789],\n",
            "         [0.8019, 0.0223, 0.0435, 0.8350],\n",
            "         [0.7872, 0.1741, 0.3965, 0.5330],\n",
            "         [0.6384, 0.2882, 0.8028, 0.8445]],\n",
            "\n",
            "        [[0.6884, 0.5498, 0.9156, 0.2297],\n",
            "         [0.3089, 0.5030, 0.1302, 0.8590],\n",
            "         [0.0110, 0.6322, 0.7058, 0.0166],\n",
            "         [0.1471, 0.1754, 0.9786, 0.8427]],\n",
            "\n",
            "        [[0.5619, 0.7484, 0.9423, 0.6173],\n",
            "         [0.5086, 0.0662, 0.7008, 0.8040],\n",
            "         [0.4793, 0.7035, 0.4899, 0.7687],\n",
            "         [0.1676, 0.3488, 0.4438, 0.7888]],\n",
            "\n",
            "        [[0.2590, 0.5972, 0.3466, 0.3799],\n",
            "         [0.0686, 0.3901, 0.8309, 0.1880],\n",
            "         [0.1780, 0.0586, 0.6441, 0.6631],\n",
            "         [0.2038, 0.0529, 0.8656, 0.8254]]])\n"
          ],
          "name": "stdout"
        }
      ]
    },
    {
      "cell_type": "code",
      "metadata": {
        "id": "4NT42q8P0j58",
        "colab_type": "code",
        "colab": {
          "base_uri": "https://localhost:8080/",
          "height": 53
        },
        "outputId": "9a381df8-fe33-4ae5-90e3-2e3e3fa2d653"
      },
      "source": [
        "x=tc.ones(1)\n",
        "print(x)\n",
        "print(x.item())"
      ],
      "execution_count": 75,
      "outputs": [
        {
          "output_type": "stream",
          "text": [
            "tensor([1.])\n",
            "1.0\n"
          ],
          "name": "stdout"
        }
      ]
    },
    {
      "cell_type": "code",
      "metadata": {
        "id": "TSFnkvYF07Wb",
        "colab_type": "code",
        "colab": {}
      },
      "source": [
        ""
      ],
      "execution_count": null,
      "outputs": []
    }
  ]
}